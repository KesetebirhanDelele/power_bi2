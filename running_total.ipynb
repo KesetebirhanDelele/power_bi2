{
 "cells": [
  {
   "attachments": {},
   "cell_type": "markdown",
   "metadata": {},
   "source": [
    "# Running Total or Cummulative by Date\n",
    "sales_cummulative = CALCULATE([Sales_measure],FILTER(ALL(Sales[DueDateKey]),Sales[DueDateKey]<=MAX(Sales[DueDateKey])))"
   ]
  },
  {
   "attachments": {},
   "cell_type": "markdown",
   "metadata": {},
   "source": [
    "# Running Total or Cummulative by a Categorical Variable using RANKX and TOPN\n",
    "rank_sales_country = RANKX(ALL(Reseller[Country-Region]),[Sales_measure])"
   ]
  },
  {
   "attachments": {},
   "cell_type": "markdown",
   "metadata": {},
   "source": [
    "cumulative_sales_by_country = CALCULATE([Sales_measure],TOPN([rank_sales_country],ALL(Reseller[Country-Region]),[Sales_measure]))"
   ]
  },
  {
   "attachments": {},
   "cell_type": "markdown",
   "metadata": {},
   "source": [
    "# Running Total without showing total\n",
    "cumulative_sales_using_calculated = \n",
    "\n",
    "\n",
    "VAR current_customer_id=SELECTEDVALUE(Sales[DueDateKey])\n",
    "\n",
    "\n",
    "RETURN\n",
    "\n",
    "\n",
    "CALCULATE([Sales_measure],Sales[DueDateKey]<=current_customer_id)"
   ]
  },
  {
   "attachments": {},
   "cell_type": "markdown",
   "metadata": {},
   "source": [
    "# Running Total without showing rank for total using ISINSCOPE\n",
    "rank_sales_country = \n",
    "\n",
    "\n",
    "IF(ISINSCOPE(Reseller[Country-Region]),\n",
    "\n",
    "\n",
    "RANKX(ALL(Reseller[Country-Region]),[Sales_measure])\n",
    ")"
   ]
  }
 ],
 "metadata": {
  "language_info": {
   "name": "python"
  },
  "orig_nbformat": 4
 },
 "nbformat": 4,
 "nbformat_minor": 2
}
