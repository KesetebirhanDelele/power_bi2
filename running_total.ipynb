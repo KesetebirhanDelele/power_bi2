{
 "cells": [
  {
   "attachments": {},
   "cell_type": "markdown",
   "metadata": {},
   "source": [
    "# Running Total or Cummulative by Date\n",
    "\n",
    "> Note that for cumulative value to appear in a table or graph, the date value has to come from a date variable. Secondary year-month calculations will not work \n",
    "\n",
    "    sales_cummulative = \n",
    "        CALCULATE(\n",
    "            [Sales_measure],\n",
    "            FILTER(ALL(Sales[DueDateKey]),Sales[DueDateKey]<=MAX(Sales[DueDateKey])))"
   ]
  },
  {
   "attachments": {},
   "cell_type": "markdown",
   "metadata": {},
   "source": [
    "# Running Total or Cummulative by a Categorical Variable using RANKX and TOPN\n",
    "    rank_sales_country = \n",
    "        RANKX(\n",
    "            ALL(Reseller[Country-Region]),\n",
    "            [Sales_measure]\n",
    "        )"
   ]
  },
  {
   "attachments": {},
   "cell_type": "markdown",
   "metadata": {},
   "source": [
    "    cumulative_sales_by_country = \n",
    "        CALCULATE(\n",
    "            [Sales_measure],\n",
    "            TOPN(   \n",
    "                [rank_sales_country],\n",
    "                ALL(Reseller[Country-Region]),\n",
    "                [Sales_measure]\n",
    "                )\n",
    "            )"
   ]
  },
  {
   "attachments": {},
   "cell_type": "markdown",
   "metadata": {},
   "source": [
    "# Running Total without showing total\n",
    "cumulative_sales_using_calculated = \n",
    "\n",
    "\n",
    "VAR current_customer_id=SELECTEDVALUE(Sales[DueDateKey])\n",
    "\n",
    "\n",
    "RETURN\n",
    "\n",
    "\n",
    "CALCULATE([Sales_measure],Sales[DueDateKey]<=current_customer_id)"
   ]
  },
  {
   "attachments": {},
   "cell_type": "markdown",
   "metadata": {},
   "source": [
    "# Running Total without showing rank for total using ISINSCOPE\n",
    "rank_sales_country = \n",
    "\n",
    "\n",
    "IF(ISINSCOPE(Reseller[Country-Region]),\n",
    "\n",
    "\n",
    "RANKX(ALL(Reseller[Country-Region]),[Sales_measure])\n",
    ")"
   ]
  }
 ],
 "metadata": {
  "language_info": {
   "name": "python"
  },
  "orig_nbformat": 4
 },
 "nbformat": 4,
 "nbformat_minor": 2
}
