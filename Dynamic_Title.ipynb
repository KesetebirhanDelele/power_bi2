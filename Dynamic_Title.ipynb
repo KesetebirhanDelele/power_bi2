{
 "cells": [
  {
   "attachments": {},
   "cell_type": "markdown",
   "metadata": {},
   "source": [
    "# Dynamic Title\n",
    "\n",
    "> If there is one selected value for example 'Day', it will read: \"Current Day vs Previous\"\n",
    "\n",
    "> If there is no value selected, it will show: \"Current vs Previous Day, Week, Month, Quarter, Year\" by concatenating all available values\n",
    "\n",
    "    Title = \n",
    "    IF(\n",
    "        HASONEVALUE('Current Vs Previous'[Ordinal]),\n",
    "        \"Current \" & SELECTEDVALUE('Current Vs Previous'[Current Vs Previous]) & \" Vs Previous\",\n",
    "    \"Current Vs Previous \" & \n",
    "    CONCATENATEX(\n",
    "            VALUES('Current Vs Previous'[Current Vs Previous]),\n",
    "            'Current Vs Previous'[Current Vs Previous], \" , \"\n",
    "    )\n",
    "    )"
   ]
  }
 ],
 "metadata": {
  "language_info": {
   "name": "python"
  },
  "orig_nbformat": 4
 },
 "nbformat": 4,
 "nbformat_minor": 2
}
