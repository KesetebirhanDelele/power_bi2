{
 "cells": [
  {
   "attachments": {},
   "cell_type": "markdown",
   "metadata": {},
   "source": [
    "# TOPN\n",
    "\n",
    "> TOPN (N_Value, Table, OrderBy_Expression, Order)"
   ]
  },
  {
   "attachments": {},
   "cell_type": "markdown",
   "metadata": {},
   "source": [
    "**Remarks**\n",
    "\n",
    "If there is a tie, in Order_By values, at the N-th row of the table, then all tied rows are returned. Then, when there are ties at the N-th row the function might return more than n rows.\n",
    "\n",
    "If N_Value is 0 (zero) or less, TOPN returns an empty table.\n",
    "\n",
    "If Order is 0 or FALSE, sorting is DESCCENDING. If it is 1 or TRUE, it is ASCENDING.\n",
    "\n",
    "TOPN does not guarantee any sort order for the results.\n",
    "\n",
    "This function is not supported for use in DirectQuery mode when used in calculated columns or row-level security (RLS) rules."
   ]
  },
  {
   "attachments": {},
   "cell_type": "markdown",
   "metadata": {},
   "source": [
    "Example: Ascending TOP 3 gives you the least 3 items while DESCENDING TOP 3 gives you top 3 items. However, the output will be displayed in no particular order.\n",
    "\n",
    "    EVALUATE\n",
    "        TOPN(\n",
    "        3,SUMMARIZE(\n",
    "            DimProduct,\n",
    "            DimProduct[BrandName],\n",
    "            \"Sales\",SUM(FactSales[SalesAmount])\n",
    "            ),\n",
    "        [Sales],1\n",
    "        )"
   ]
  },
  {
   "attachments": {},
   "cell_type": "markdown",
   "metadata": {},
   "source": [
    "|BrandName|    Sales|\n",
    "|---------|--------------|\n",
    "|Southridge Video|486921072.3361|\n",
    "|Tailspin Toys|    134428829.5546|\n",
    "|Northwind Traders|418668898.7141|"
   ]
  },
  {
   "attachments": {},
   "cell_type": "markdown",
   "metadata": {},
   "source": [
    "## TOP3 BY Calendar Year\n",
    "### Use TOPN with Generate\n",
    "\n",
    "        EVALUATE\n",
    "            GENERATE(\n",
    "                SUMMARIZE(FactSales,DimDate[CalendarYear]),  \n",
    "                TOPN(\n",
    "                3,ADDCOLUMNS(\n",
    "                    VALUES(DimProduct[BrandName]),\n",
    "                    \"Sales\",[Sales_Amount])\n",
    "                    ,\n",
    "                [Sales],1\n",
    "                )\n",
    "                )\n",
    "            ORDER BY DimDate[CalendarYear]"
   ]
  },
  {
   "attachments": {},
   "cell_type": "markdown",
   "metadata": {},
   "source": [
    "|CalendarYear|BrandName|Sales|\n",
    "|------------|---------|-----|\n",
    "|2007|Tailspin Toys|7405207.3772|\n",
    "|2007|Wide World Importers|44255687.3677|\n",
    "|2007|The Phone Company|43512965.86|\n",
    "|2008|Southridge Video|30596284.5963|\n",
    "|2008|A. Datum|37053899.646|\n",
    "|2008|Tailspin Toys|7567273.9194|\n",
    "|2009|Southridge Video|34929502.7205|\n",
    "|2009|Tailspin Toys|15616388.7636|\n",
    "|2009|Northwind Traders|21159824.3897|\n",
    "\n"
   ]
  },
  {
   "attachments": {},
   "cell_type": "markdown",
   "metadata": {},
   "source": [
    "## Total of Top3 by Calendar Year\n",
    "\n",
    "> Use VAR to iterate through and aggregate subtotal by year for top3 of each year\n",
    "\n",
    "        EVALUATE\n",
    "            GENERATE(\n",
    "                SUMMARIZE(FactSales,DimDate[CalendarYear]),  \n",
    "                \n",
    "                VAR top3=\n",
    "                TOPN(\n",
    "                3,ADDCOLUMNS(\n",
    "                    VALUES(DimProduct[BrandName]),\n",
    "                    \"Sales\",[Sales_Amount])\n",
    "                    ,\n",
    "                [Sales],1\n",
    "                )\n",
    "                \n",
    "                VAR top3total=SUMX(top3,[Sales])\n",
    "                \n",
    "                RETURN {top3total}\n",
    "                \n",
    "                )\n",
    "            ORDER BY DimDate[CalendarYear]"
   ]
  }
 ],
 "metadata": {
  "kernelspec": {
   "display_name": "base",
   "language": "python",
   "name": "python3"
  },
  "language_info": {
   "name": "python",
   "version": "3.10.9"
  },
  "orig_nbformat": 4
 },
 "nbformat": 4,
 "nbformat_minor": 2
}
