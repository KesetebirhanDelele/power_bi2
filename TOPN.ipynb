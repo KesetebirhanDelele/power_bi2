{
 "cells": [
  {
   "attachments": {},
   "cell_type": "markdown",
   "metadata": {},
   "source": [
    "# TOPN\n",
    "\n",
    "> TOPN (N_Value, Table, OrderBy_Expression, Order)"
   ]
  },
  {
   "attachments": {},
   "cell_type": "markdown",
   "metadata": {},
   "source": [
    "**Remarks**\n",
    "\n",
    "If there is a tie, in Order_By values, at the N-th row of the table, then all tied rows are returned. Then, when there are ties at the N-th row the function might return more than n rows.\n",
    "\n",
    "If N_Value is 0 (zero) or less, TOPN returns an empty table.\n",
    "\n",
    "If Order is 0 or FALSE, sorting is DESCCENDING. If it is 1 or TRUE, it is ASCENDING.\n",
    "\n",
    "TOPN does not guarantee any sort order for the results.\n",
    "\n",
    "This function is not supported for use in DirectQuery mode when used in calculated columns or row-level security (RLS) rules."
   ]
  },
  {
   "attachments": {},
   "cell_type": "markdown",
   "metadata": {},
   "source": [
    "Example: Ascending TOP 3 gives you the least 3 items while DESCENDING TOP 3 gives you top 3 items. However, the output will be displayed in no particular order.\n",
    "\n",
    "    EVALUATE\n",
    "        TOPN(\n",
    "        3,SUMMARIZE(\n",
    "            DimProduct,\n",
    "            DimProduct[BrandName],\n",
    "            \"Sales\",SUM(FactSales[SalesAmount])\n",
    "            ),\n",
    "        [Sales],1\n",
    "        )"
   ]
  },
  {
   "attachments": {},
   "cell_type": "markdown",
   "metadata": {},
   "source": [
    "|BrandName|  \t    Sales|\n",
    "|---------|--------------|\n",
    "|Southridge Video|\t486921072.3361|\n",
    "|Tailspin Toys|\t    134428829.5546|\n",
    "|Northwind Traders|\t418668898.7141|"
   ]
  }
 ],
 "metadata": {
  "kernelspec": {
   "display_name": "base",
   "language": "python",
   "name": "python3"
  },
  "language_info": {
   "name": "python",
   "version": "3.10.9"
  },
  "orig_nbformat": 4
 },
 "nbformat": 4,
 "nbformat_minor": 2
}
