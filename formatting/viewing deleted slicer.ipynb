{
 "cells": [
  {
   "cell_type": "markdown",
   "metadata": {},
   "source": [
    "# Viewing deleted slicer\n",
    "\n",
    "> effects will remain even after deletion.\n",
    "\n",
    "> Hence, go to view, click on selection and see any slicers that exist as objects on the page. You can make them visible and remove the filter applied on them before deleting them"
   ]
  }
 ],
 "metadata": {
  "language_info": {
   "name": "python"
  }
 },
 "nbformat": 4,
 "nbformat_minor": 2
}
