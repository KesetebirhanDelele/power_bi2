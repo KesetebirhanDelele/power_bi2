{
 "cells": [
  {
   "cell_type": "markdown",
   "metadata": {},
   "source": [
    "# Sorting\n",
    "\n",
    "> in a visual,\n",
    "\n",
    "> by another column after clicking on the variable to be sorted in data and selecting sorting variable by going to column tools,\n",
    "\n",
    "> the more option to sort table without touching a column,\n",
    "\n",
    "> in matrices by total and row variable only, not by column or column values\n",
    "\n",
    "> for continous variables in column charts: change x axis to categorical variable first before sorting"
   ]
  }
 ],
 "metadata": {
  "language_info": {
   "name": "python"
  }
 },
 "nbformat": 4,
 "nbformat_minor": 2
}
