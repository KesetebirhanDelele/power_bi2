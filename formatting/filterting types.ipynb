{
 "cells": [
  {
   "cell_type": "markdown",
   "metadata": {},
   "source": [
    "# Filterting types\n",
    "\n",
    "> Basic,\n",
    "\n",
    "> Advanced,\n",
    "\n",
    "> Top N\n",
    "\n",
    "> Relative date\n",
    "\n",
    "> Relative time"
   ]
  }
 ],
 "metadata": {
  "language_info": {
   "name": "python"
  }
 },
 "nbformat": 4,
 "nbformat_minor": 2
}
