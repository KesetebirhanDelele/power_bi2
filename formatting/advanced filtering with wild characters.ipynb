{
 "cells": [
  {
   "cell_type": "markdown",
   "metadata": {},
   "source": [
    "# Wild characters\n",
    "\n",
    "> Asterix: 0 to infinity characters in between\n",
    "Eg: W*e \n",
    "Output: West midlands, West Yorkshire, Tyne and wear\n",
    "\n",
    "Eg: We*\n",
    "Output: West midlands, West Yorkshire, Tyne and wear\n",
    "\n",
    "Eg: W*r\n",
    "Output: West Yorkshire, Tyne and wear\n",
    "\n",
    "> '?' exactly one character in the place of the question mark\n",
    "\n",
    "Eg: W?s\n",
    "Output: West midlands, West Yorkshire"
   ]
  }
 ],
 "metadata": {
  "language_info": {
   "name": "python"
  }
 },
 "nbformat": 4,
 "nbformat_minor": 2
}
