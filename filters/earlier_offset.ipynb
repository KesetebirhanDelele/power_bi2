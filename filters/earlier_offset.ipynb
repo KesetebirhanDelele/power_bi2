{
 "cells": [
  {
   "attachments": {},
   "cell_type": "markdown",
   "metadata": {},
   "source": [
    "# Earlier and Earliest are the same\n",
    "\n",
    "EVALUATE\n",
    "\n",
    "ADDCOLUMNS (\n",
    "\n",
    "    VALUES ( Sales[Sales Amount] ),\n",
    "    \"Customers\", CALCULATE ( COUNTROWS ( Sales ) ),\n",
    "    \"RT Customers\",\n",
    "        COUNTROWS (\n",
    "            FILTER (\n",
    "                Sales,\n",
    "                Sales[Sales Amount] <= EARLIER ( Sales[Sales Amount] )\n",
    "            )\n",
    "        ),\n",
    "    \"Cumulative Sales\",\n",
    "        CALCULATE (SUM(Sales[Sales Amount]),\n",
    "            FILTER (\n",
    "                Sales,\n",
    "                Sales[Sales Amount] <= EARLIER ( Sales[Sales Amount] )\n",
    "            )\n",
    "        )\n",
    ")\n",
    "ORDER BY Sales[Sales Amount]\n"
   ]
  },
  {
   "attachments": {},
   "cell_type": "markdown",
   "metadata": {},
   "source": [
    "# Offset: returns a value before or after the cirrent context\n",
    "\n",
    "DEFINE\n",
    "\n",
    "MEASURE DimProduct[CurrentYearSales] = SUM(FactInternetSales[SalesAmount])\n",
    "\n",
    "MEASURE DimProduct[PreviousYearSales] = CALCULATE(SUM(FactInternetSales[SalesAmount]), OFFSET(-1, , ORDERBY(DimDate[CalendarYear])))\n",
    "\n",
    "EVALUATE\n",
    "\n",
    "SUMMARIZECOLUMNS (\n",
    "\n",
    "    DimDate[CalendarYear],\n",
    "\n",
    "    \"CurrentYearSales\", DimProduct[CurrentYearSales],\n",
    "\n",
    "    \"PreviousYearSales\", DimProduct[PreviousYearSales]\n",
    "    \n",
    ")"
   ]
  }
 ],
 "metadata": {
  "language_info": {
   "name": "python"
  },
  "orig_nbformat": 4
 },
 "nbformat": 4,
 "nbformat_minor": 2
}
