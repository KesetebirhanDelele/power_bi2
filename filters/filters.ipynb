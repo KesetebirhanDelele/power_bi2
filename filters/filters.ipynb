{
 "cells": [
  {
   "attachments": {},
   "cell_type": "markdown",
   "metadata": {},
   "source": [
    "# All\n",
    "The argument to the ALL function must be either a reference to a base table or a reference to a base column. You cannot use table expressions or column expressions with the ALL function.\n",
    "\n",
    "Return value\n",
    "The table or column with filters removed."
   ]
  },
  {
   "attachments": {},
   "cell_type": "markdown",
   "metadata": {},
   "source": [
    "## All(Table)"
   ]
  },
  {
   "attachments": {},
   "cell_type": "markdown",
   "metadata": {},
   "source": [
    "```\n",
    "Removes all filters from the specified table. In effect, ALL(Table) returns all of the values in the table, removing any filters from the context that otherwise might have been applied. This function is useful when you are working with many levels of grouping, and want to create a calculation that creates a ratio of an aggregated value to the total value. The first example demonstrates this scenario.\n",
    "```"
   ]
  },
  {
   "attachments": {},
   "cell_type": "markdown",
   "metadata": {},
   "source": [
    "### Example:\n",
    "![Alt text](all_filter.png)"
   ]
  },
  {
   "attachments": {},
   "cell_type": "markdown",
   "metadata": {},
   "source": [
    "### Card with total value\n",
    "Total Sales = SUMX(ALL(Sales),Sales[Sales Amount]) "
   ]
  },
  {
   "attachments": {},
   "cell_type": "markdown",
   "metadata": {},
   "source": [
    "### Table 1 with percentage from total\n",
    ">% Sales = SUMX(Sales,Sales[Sales Amount])/SUMX(ALL(Sales),Sales[Sales Amount])"
   ]
  },
  {
   "attachments": {},
   "cell_type": "markdown",
   "metadata": {},
   "source": [
    "### Table 2 with percentage contribution of each product for each year (no filter on year while there is filtering by business type). This can be achieved by one of the two: ALL('Date'[Fiscal Year]) OR ALLEXCEPT('Date'[business Type]).\n",
    ">% Sales_year = SUMX(Sales,Sales[Sales Amount])/CALCULATE(SUM(Sales[Sales Amount]),ALL('Date'[Fiscal Year]))"
   ]
  },
  {
   "attachments": {},
   "cell_type": "markdown",
   "metadata": {},
   "source": [
    "### Table 3 with percentage contribution of each year for each product sales (no filter on business type while there is filtering by year). This can be achieved by one of the two: ALL('Date'[Business Type]) OR ALLEXCEPT('Date'[Fiscal Year]).\n",
    "% Sales_type = SUMX(Sales,Sales[Sales Amount])/CALCULATE(SUM(Sales[Sales Amount]),ALL(Reseller[Business Type]))"
   ]
  },
  {
   "attachments": {},
   "cell_type": "markdown",
   "metadata": {},
   "source": [
    "# Summary of filtering by Calculate and SUMX"
   ]
  },
  {
   "attachments": {},
   "cell_type": "markdown",
   "metadata": {},
   "source": [
    "|Tab1\\Tab2 |Tab2 Val 1|Tab2 Val 2|Subtotal|\n",
    "|----------|----------|----------|--------|\n",
    "|Tab1 Val 1|          |          |        |\n",
    "|Tab1 Val 2|          |          |        |\n",
    "|Subtotal  |          |          |Total   |"
   ]
  },
  {
   "attachments": {},
   "cell_type": "markdown",
   "metadata": {},
   "source": [
    "## Calculate/SUMX:\n",
    "Note Tab=Table; Fact table is where the calculated value is located\n",
    "1. ALL(Fact): no filter on all columns meaning return total.\n",
    "2. ALL(Tab1): breakdown all values by column from Tab2. \n",
    "3. ALL(Tab2): breakdown all values by column from Tab1. \n",
    "4. ALL(Tab1 Column): breakdown all values by column from Tab2.\n",
    "5. ALLEXCEPT(Tab1, Column): apply all filters by both columns.\n",
    "6. ALL(Tab3): apply all filters by both columns.\n",
    "\n",
    "See example below"
   ]
  },
  {
   "attachments": {},
   "cell_type": "markdown",
   "metadata": {},
   "source": [
    "![Alt text](All%20functions%20Summary.png)"
   ]
  },
  {
   "attachments": {},
   "cell_type": "markdown",
   "metadata": {},
   "source": [
    "# ALLNOBLANKROW\n",
    "From the parent table of a relationship, returns all rows but the blank row, or all distinct values of a column but the blank row, and disregards any context filters that might exist."
   ]
  },
  {
   "attachments": {},
   "cell_type": "markdown",
   "metadata": {},
   "source": [
    "# ALLSELECTED\n",
    "When ALL has been applied to remove filters in the above tables, value for total remains the same when we apply external filter. Sometimes, we need to calculate total for selected filters. In that case, ALLSELECTED is used to indicate total should be calculated for values related to external filters only. In the example below, country is the external filter and 'selected sales' calculates total for applied external filter:\n",
    ">Selected Sales = CALCULATE(sum(Sales[Sales Amount]),ALLSELECTED('Sales Territory'[Country]))\n",
    "![Alt text](allselected.png)"
   ]
  },
  {
   "attachments": {},
   "cell_type": "markdown",
   "metadata": {},
   "source": [
    "# Filter, FILTER(VALUES), KEEPFILTERS"
   ]
  },
  {
   "attachments": {},
   "cell_type": "markdown",
   "metadata": {},
   "source": [
    "# __Note that it is generally note recommended to use filter in tables since it will slow down performance especially in large tables since filter function takes entire tables and runs it to get to result which adds work load.__ \n",
    ">Instead use keepfilters. Note that for multiple values, use values along with filter. Otherwise, all three give the same result."
   ]
  },
  {
   "attachments": {},
   "cell_type": "markdown",
   "metadata": {},
   "source": [
    "# KEEPFILTERS (the prefered option of the three)\n",
    "Modifies how filters are applied while evaluating a CALCULATE or CALCULATETABLE function.\n",
    "You use KEEPFILTERS within the context CALCULATE and CALCULATETABLE functions, to override the standard behavior of those functions. Meaning the total for the applied filter will be shown for the filters columns as specified by within calculate function. See exampke below:\n",
    "\n",
    "Sales_filter = CALCULATE(SUM(Sales[Sales Amount]),'Sales Territory'[Country]=\"Canada\",'Product'[Category]=\"Bikes\")\n",
    "\n",
    "Sales_filter_keepfilters = CALCULATE(SUM(Sales[Sales Amount]),KEEPFILTERS('Sales Territory'[Country]=\"Canada\"),KEEPFILTERS('Product'[Category]=\"Bikes\"))\n",
    "\n",
    "Sales_table_filter = CALCULATE(SUM(Sales[Sales Amount]),FILTER('Sales Territory','Sales Territory'[Country]=\"Canada\"),FILTER('Product','Product'[Category]=\"Bikes\"))\n",
    "\n",
    "Sales_table_filter_value = CALCULATE(SUM(Sales[Sales Amount]),FILTER(VALUES('Sales Territory'),'Sales Territory'[Country]=\"Canada\"),FILTER(VALUES('Product'),'Product'[Category]=\"Bikes\"))\n",
    "\n",
    "![Alt text](keepfilters,%20filter,%20filter+value.png)"
   ]
  },
  {
   "attachments": {},
   "cell_type": "markdown",
   "metadata": {},
   "source": [
    "# Removefilters\n",
    "Remove filter removes all filters as specified by \n",
    "1. a table: REMOVEILFTER(Product)\n",
    "2. a column: REMOVEILFTER(Product[Category]),\n",
    "3. any filter: REMOVEFILTER()\n",
    "\n",
    ">Note that REMOVEFILTERS is equivalent to ALL but much more efficient since it doesn't need to refer to a table in the background. \n",
    "\n",
    "Top table indicates REMOVEFILTER removing filters from product category: \\\n",
    "__Sales_removefilters_product = CALCULATE(SUM(Sales[Sales Amount]),REMOVEFILTERS('Product'))__\n",
    "\n",
    "Middle table indicates REMOVEFILTER removing filters from product category which is not located in products table but related to sales table through product table.\n",
    "\n",
    "Bottom table indicates REMOVEFILTER not filtering sales values by country since the removefilter instuction is specified for product table only and not sales terittory table. But sales calculated using the removeall filters indicates that nothing filters the value: neither product nor country \\\n",
    "__sales_remove all filters = CALCULATE(sum(Sales[Sales Amount]),REMOVEFILTERS())__"
   ]
  },
  {
   "attachments": {},
   "cell_type": "markdown",
   "metadata": {},
   "source": [
    "![Alt text](removefilters.png)"
   ]
  },
  {
   "attachments": {},
   "cell_type": "markdown",
   "metadata": {},
   "source": [
    "# SELECTEDVALUE and VALUES\n",
    "SELECTEDVALUE is used to select one value while VALUES is for multiple values.\n",
    "The purpose of these functions is to capture value(s) selected by enduser and use it for conditional formating without filtering a visual.\n",
    "\n",
    "To do that, duplicate a filter of interest in a separate table that is not joined to any table in the model. That way, enduser will be able to click on slicer from the duplicate value and a visual will be formated accordingly.\n",
    "\n",
    "Here are codes for sales total:\n",
    ">1. SELECTEDVALUE \n",
    "\n",
    "\n",
    "Total Sales_Selectedvalue = \n",
    "\n",
    "\n",
    "VAR selected=SELECTEDVALUE('Table 2'[Category slicer])\n",
    "\n",
    "\n",
    "return\n",
    "\n",
    "\n",
    "IF(SELECTEDVALUE('Product'[Category])=selected,SUM(Sales[Sales Amount]))\n",
    "\n",
    "\n",
    ">2. VALUES returns a table\n",
    "\n",
    "\n",
    "Total Sales_values = \n",
    "\n",
    "\n",
    "VAR selected=VALUES('Table 2'[Category slicer])\n",
    "\n",
    "\n",
    "return\n",
    "\n",
    "\n",
    "IF(SELECTEDVALUE('Product'[Category]) in selected,SUM(Sales[Sales Amount]))\n",
    "\n",
    "1 is used to do conditional formating using single value while 2 is used to do formating on 1 or more values. See figures below:\n",
    "![Alt text](selectedvalue.png)\n",
    "![Alt text](values.png)"
   ]
  },
  {
   "attachments": {},
   "cell_type": "markdown",
   "metadata": {},
   "source": [
    "# ALLCROSSFILTERED"
   ]
  },
  {
   "attachments": {},
   "cell_type": "markdown",
   "metadata": {},
   "source": [
    "Clear all filters which are applied to a table.\n",
    "\n",
    "\n",
    "total_sales = CALCULATE(SUM(Sales[Sales Amount]), ALLCROSSFILTERED(Sales))"
   ]
  },
  {
   "attachments": {},
   "cell_type": "markdown",
   "metadata": {},
   "source": [
    "![Alt text](allcrossfiltered.png)"
   ]
  }
 ],
 "metadata": {
  "kernelspec": {
   "display_name": "base",
   "language": "python",
   "name": "python3"
  },
  "language_info": {
   "name": "python",
   "version": "3.9.12"
  },
  "orig_nbformat": 4,
  "vscode": {
   "interpreter": {
    "hash": "f2afcfe68c1da19a6605b86760761747f6d73cfe0b9d0821bcd792c1b2cd6393"
   }
  }
 },
 "nbformat": 4,
 "nbformat_minor": 2
}
