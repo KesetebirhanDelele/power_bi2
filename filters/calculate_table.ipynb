{
 "cells": [
  {
   "attachments": {},
   "cell_type": "markdown",
   "metadata": {},
   "source": [
    "# CALCULATETABLE\n",
    "\n",
    "InternetSales_USD_2006 = \n",
    "\n",
    "SUMX(\n",
    "    \n",
    "    CALCULATETABLE(\n",
    "        \n",
    "        'InternetSales_USD',\n",
    "            \n",
    "        'DateTime'[CalendarYear] = 2006\n",
    "    \n",
    "    ),\n",
    "        \n",
    "    [SalesAmount_USD]\n",
    "\n",
    ")"
   ]
  }
 ],
 "metadata": {
  "language_info": {
   "name": "python"
  },
  "orig_nbformat": 4
 },
 "nbformat": 4,
 "nbformat_minor": 2
}
