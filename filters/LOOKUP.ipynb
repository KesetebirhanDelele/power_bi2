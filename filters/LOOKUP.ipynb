{
 "cells": [
  {
   "attachments": {},
   "cell_type": "markdown",
   "metadata": {},
   "source": [
    "# LOOKUP\n",
    "\n",
    "## Identify columns to feed into LOOKUP using the RSS acronym:\n",
    "\n",
    "> result column\n",
    "\n",
    "\n",
    "> search column\n",
    "\n",
    "\n",
    "> search value\n",
    "\n",
    "\n",
    "LOOKUPVALUE(\n",
    "\n",
    "    <result_columnName>,\n",
    "\n",
    "    <search_columnName>,\n",
    "\n",
    "    <search_value>\n",
    "\n",
    "    [, <search2_columnName>, <search2_value>]…\n",
    "\n",
    "    [, <alternateResult>]\n",
    ")"
   ]
  }
 ],
 "metadata": {
  "language_info": {
   "name": "python"
  },
  "orig_nbformat": 4
 },
 "nbformat": 4,
 "nbformat_minor": 2
}
