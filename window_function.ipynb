{
 "cells": [
  {
   "attachments": {},
   "cell_type": "markdown",
   "metadata": {},
   "source": [
    "# Window Functions\n",
    "\n",
    "There are three types of indexing functions in DAX: index, offset, AND WINDOW functions.\n",
    "\n",
    "Notes: \n",
    "\n",
    "1. TOPN covers some features of index. Ex: returning first row. But, index has added advantage of picking any rows: example 3rd row.\n",
    "\n",
    "2. Of the three window functions, only Index has the capability to sort a table by columns when the table was created on the fly.\n",
    "\n",
    "3. Index always returns unique values while TOPN can return two different rows with identical value.\n",
    "\n",
    "## Index\n",
    "\n",
    "> Show 2nd highest sales amount\n",
    "\n",
    "    EVALUATE\n",
    "        VAR BrandsAndSales =\n",
    "            ADDCOLUMNS (\n",
    "                VALUES ( DimProduct[BrandName] ),\n",
    "                \"@Sales\", [Sales_Amount]\n",
    "            )\n",
    "        RETURN\n",
    "            INDEX (\n",
    "                2,              -- use -1 for the last row or brand with the least sales amount\n",
    "                BrandsAndSales,\n",
    "                ORDERBY ( [@Sales], DESC )\n",
    "            )"
   ]
  }
 ],
 "metadata": {
  "language_info": {
   "name": "python"
  },
  "orig_nbformat": 4
 },
 "nbformat": 4,
 "nbformat_minor": 2
}
