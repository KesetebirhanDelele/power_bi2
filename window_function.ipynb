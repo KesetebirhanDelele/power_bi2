{
 "cells": [
  {
   "attachments": {},
   "cell_type": "markdown",
   "metadata": {},
   "source": [
    "# Window Functions\n",
    "\n",
    "There are three types of indexing functions in DAX: index, offset, AND WINDOW functions.\n",
    "\n",
    "Notes: \n",
    "\n",
    "1. TOPN covers some features of index. Ex: returning first row. But, index has added advantage of picking any rows: example 3rd row.\n",
    "\n",
    "2. Of the three window functions, only Index has the capability to sort a table by columns when the table was created on the fly.\n",
    "\n",
    "## Index\n",
    "\n"
   ]
  }
 ],
 "metadata": {
  "language_info": {
   "name": "python"
  },
  "orig_nbformat": 4
 },
 "nbformat": 4,
 "nbformat_minor": 2
}
