{
 "cells": [
  {
   "attachments": {},
   "cell_type": "markdown",
   "metadata": {},
   "source": [
    "# Ceiling\n",
    "    EVALUATE\n",
    "        {CEILING(4.42,0.05)}       -- Rounds it to the nearest multiple of 0.05. Output= 4.45"
   ]
  },
  {
   "attachments": {},
   "cell_type": "markdown",
   "metadata": {},
   "source": [
    "# Convert\n",
    "\n",
    "    EVALUATE \n",
    "        { CONVERT(DATE(1900, 1, 1), INTEGER) }      -- Converts datatype. Here date to integer which is 1. "
   ]
  },
  {
   "attachments": {},
   "cell_type": "markdown",
   "metadata": {},
   "source": [
    "# Currency\n",
    "\n",
    "    EVALUATE\n",
    "        {CURRENCY(1234.56)}         -- Converts it to currency data type = 1234.56000"
   ]
  },
  {
   "attachments": {},
   "cell_type": "markdown",
   "metadata": {},
   "source": [
    "# Floor\n",
    "    EVALUATE\n",
    "        {FLOOR(10.47,.1)}           -- Rounds a number down, toward zero, to the nearest multiple of significance. Result= 10.47"
   ]
  },
  {
   "attachments": {},
   "cell_type": "markdown",
   "metadata": {},
   "source": [
    "# MOD \n",
    "\n",
    "    MOD(3,2)    -- Modulus: Returns reminder after division: 1"
   ]
  },
  {
   "attachments": {},
   "cell_type": "markdown",
   "metadata": {},
   "source": [
    "# MROUND\n",
    "\n",
    "> Returns a number rounded to the desired multiple.\n",
    "\n",
    "    MROUND(1.3,0.2) = 1.4"
   ]
  },
  {
   "attachments": {},
   "cell_type": "markdown",
   "metadata": {},
   "source": [
    "# ROUND\n",
    "\n",
    "> Rounds a number to the specified number of digits.\n",
    "\n",
    "    ROUND(2.15,1) = 2.2\n",
    "\n",
    "    ROUND(21.5,-1) = 20"
   ]
  },
  {
   "attachments": {},
   "cell_type": "markdown",
   "metadata": {},
   "source": [
    "# ROUNDDOWN\n",
    "\n",
    "    ROUNDDOWN(3.14159,3) = 3.141\n",
    "\n",
    "    ROUNDDOWN(31415.92654, -2) = 31400"
   ]
  },
  {
   "attachments": {},
   "cell_type": "markdown",
   "metadata": {},
   "source": [
    "# ROUNDUP\n",
    "\n",
    "    ROUNDUP(3.141592,4) = 3.1416\n",
    "\n",
    "    ROUNDUP(1.3,0.2) = 2"
   ]
  }
 ],
 "metadata": {
  "language_info": {
   "name": "python"
  },
  "orig_nbformat": 4
 },
 "nbformat": 4,
 "nbformat_minor": 2
}
