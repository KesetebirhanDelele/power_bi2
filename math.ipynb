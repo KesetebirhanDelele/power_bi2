{
 "cells": [
  {
   "attachments": {},
   "cell_type": "markdown",
   "metadata": {},
   "source": [
    "# Ceiling\n",
    "    EVALUATE\n",
    "        {CEILING(4.42,0.05)}       -- Rounds it to the nearest multiple of 0.05. Output= 4.45"
   ]
  },
  {
   "attachments": {},
   "cell_type": "markdown",
   "metadata": {},
   "source": [
    "# Convert\n",
    "\n",
    "    EVALUATE \n",
    "        { CONVERT(DATE(1900, 1, 1), INTEGER) }      -- Converts datatype. Here date to integer which is 1. "
   ]
  },
  {
   "attachments": {},
   "cell_type": "markdown",
   "metadata": {},
   "source": [
    "# Currency\n",
    "\n",
    "    EVALUATE\n",
    "        {CURRENCY(1234.56)}         -- Converts it to currency data type = 1234.56000"
   ]
  },
  {
   "attachments": {},
   "cell_type": "markdown",
   "metadata": {},
   "source": [
    "# Floor\n",
    "    EVALUATE\n",
    "        {FLOOR(10.47,.1)}           -- Rounds a number down, toward zero, to the nearest multiple of significance. Result= 10.47"
   ]
  },
  {
   "attachments": {},
   "cell_type": "markdown",
   "metadata": {},
   "source": [
    "# MOD \n",
    "\n",
    "    MOD(3,2)    -- Modulus: Returns reminder after division: 1"
   ]
  },
  {
   "attachments": {},
   "cell_type": "markdown",
   "metadata": {},
   "source": [
    "# MROUND\n",
    "\n",
    "> Returns a number rounded to the desired multiple.\n",
    "\n",
    "    MROUND(1.3,0.2) = 1.4"
   ]
  },
  {
   "attachments": {},
   "cell_type": "markdown",
   "metadata": {},
   "source": [
    "# ROUND, ROUNDDOWN, and ROUNDUP\n",
    "\n",
    "\tEVALUATE\n",
    "\t\t{\t\n",
    "\t\t\t-- ROUND\n",
    "\t\t\tROUND(26.36,0), \t\t-- Round to the nearest integer: 26\n",
    "\t\t\tROUND(26.36,-1),\t\t-- Round to the nearest multiple of 10: 30\n",
    "\t\t\tROUND(26.36,1),\t\t-- Round to the nearest first decimal: 26.4\n",
    "\t\t\t\n",
    "\t\t\t-- ROUNDDOWN\n",
    "\t\t\tROUNDDOWN(26.36,0), \t\t-- Round to the next lower integer: 26 \n",
    "\t\t\tROUNDDOWN(26.36,-1),\t\t-- Round to the next lower multiple of 10: 20 \n",
    "\t\t\tROUNDDOWN(26.36,1),\t\t-- Round to the next lower first decimal: 26.3\n",
    "\t\t\t\n",
    "\t\t\t-- ROUNDUP\n",
    "\t\t\tROUNDUP(26.36,0),\t\t-- Round to the next higher integer: 27\n",
    "\t\t\tROUNDUP(26.36,-1),\t\t-- Round to the next multiple of 10: 30 \n",
    "\t\t\tROUNDUP(26.36,1)\t\t-- Round to the next higher first decimal: 26.4\n",
    "\t\t}"
   ]
  },
  {
   "attachments": {},
   "cell_type": "markdown",
   "metadata": {},
   "source": [
    "# ROUNDDOWN\n",
    "\n",
    "    ROUNDDOWN(3.14159,3) = 3.141\n",
    "\n",
    "    ROUNDDOWN(31415.92654, -2) = 31400"
   ]
  },
  {
   "attachments": {},
   "cell_type": "markdown",
   "metadata": {},
   "source": [
    "# ROUNDUP\n",
    "\n",
    "    ROUNDUP(3.141592,4) = 3.1416\n",
    "\n",
    "    ROUNDUP(1.3,0.2) = 2"
   ]
  }
 ],
 "metadata": {
  "language_info": {
   "name": "python"
  },
  "orig_nbformat": 4
 },
 "nbformat": 4,
 "nbformat_minor": 2
}
