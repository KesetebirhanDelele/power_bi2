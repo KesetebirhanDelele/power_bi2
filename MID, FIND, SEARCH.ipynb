{
 "cells": [
  {
   "attachments": {},
   "cell_type": "markdown",
   "metadata": {},
   "source": [
    "# MID\n",
    "\n",
    "> Prints text starting from a given position and upto a specified number of characters\n",
    "\n",
    "MID(\"abcde\",2,3) //\"bcd\""
   ]
  },
  {
   "attachments": {},
   "cell_type": "markdown",
   "metadata": {},
   "source": [
    "# FIND vs SEARCH\n",
    "\n",
    "    FIND(<find_text>, <within_text>[, [<start_num>][, <NotFoundValue>]])\n",
    "\n",
    "    SEARCH(<find_text>, <within_text>[, [<start_num>][, <NotFoundValue>]])\n",
    "\n",
    "> Returns the number of the character at which a specific character or text string is first found, reading left to right. Search is \n",
    "> case-insensitive and accent sensitive."
   ]
  },
  {
   "attachments": {},
   "cell_type": "markdown",
   "metadata": {},
   "source": [
    "# SUBSTITUTE\n",
    "\n",
    "    SUBSTITUTE(<text>, <old_text>, <new_text>, <instance_num>)"
   ]
  },
  {
   "attachments": {},
   "cell_type": "markdown",
   "metadata": {},
   "source": [
    "# FIXED\n",
    "\n",
    "> Used to round, format, and convert a number to a text  \n",
    "\n",
    "    FIXED(<number>, <decimals>, <no_commas>)\n",
    "\n",
    "Example\n",
    "\n",
    "    EVALUATE\n",
    "        {FIXED(\"35789.456\",1,1)} //35,789.5\n",
    "\n",
    "    EVALUATE\n",
    "        {FIXED(\"35789.456\",1)} //35789.5\n",
    "\n",
    "> \n"
   ]
  }
 ],
 "metadata": {
  "language_info": {
   "name": "python"
  },
  "orig_nbformat": 4
 },
 "nbformat": 4,
 "nbformat_minor": 2
}
