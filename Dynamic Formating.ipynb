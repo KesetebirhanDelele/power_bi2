{
 "cells": [
  {
   "attachments": {},
   "cell_type": "markdown",
   "metadata": {},
   "source": [
    "# Dynamic Formating\n",
    "\n",
    "> https://powerbi.microsoft.com/en-ie/blog/deep-dive-into-the-new-dynamic-format-strings-for-measures/#:~:text=Click%20on%20the%20measure%20in,formula%20bar%20with%20Format%20selected."
   ]
  }
 ],
 "metadata": {
  "language_info": {
   "name": "python"
  },
  "orig_nbformat": 4
 },
 "nbformat": 4,
 "nbformat_minor": 2
}
