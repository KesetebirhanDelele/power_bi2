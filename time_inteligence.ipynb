{
 "cells": [
  {
   "attachments": {},
   "cell_type": "markdown",
   "metadata": {},
   "source": [
    "# Time Inteligence Functions\n",
    "\n",
    "YTD => Sales_YTD = TOTALYTD([Sales_measure],DATESYTD('Date'[Date].[Date]))\n",
    "\n",
    "\n",
    "QTD => Sales_QTD = TOTALYTD([Sales_measure],DATESQTD('Date'[Date].[Date]))\n",
    "\n",
    "\n",
    "MTD => Sales_MTD = TOTALMTD([Sales_measure],DATESMTD('Date'[Date].[Date]))\n",
    "\n",
    "\n",
    "Note: \n",
    "\n",
    "Sales_MTD = TOTALMTD([Sales_measure],'Date'[Date].[Date]) gives the same result if end of month is the reference date. Otherwise, the above formula will work in all cases especially when we need different end date than end of the month/quarter/year:\n",
    "\n",
    "\n",
    "Example: \n",
    "\n",
    "\n",
    "Sales_MTD_July_7_2017 = TOTALMTD([Sales_measure],DATESMTD('Date'[Date].[Date]),'Date'[Date].[Date]>=DATE(2017,7,2) && 'Date'[Date].[Date]<=DATE(2017,7,7))\n",
    "\n",
    "Here, last date of calculation will be July 7, 2017 while first date will be July 1 by default.\n",
    "\n",
    "### MTD using Calculate\n",
    "Sales_MTD_CALCULATE = CALCULATE([Sales_measure],DATESMTD('Date'[Date].[Date]))"
   ]
  },
  {
   "attachments": {},
   "cell_type": "markdown",
   "metadata": {},
   "source": [
    "# Previous Period: PreviousYear, PreviousQuarter, PreviousMonth\n",
    "Sales_Previous Month = CALCULATE([Sales_measure],PREVIOUSMONTH('Date'[Date].[Date]))"
   ]
  },
  {
   "attachments": {},
   "cell_type": "markdown",
   "metadata": {},
   "source": [
    "# Same Period Last Year\n",
    "\n",
    "Sales_sameperiodlastyear = CALCULATE([Sales_measure],SAMEPERIODLASTYEAR('Date'[Date].[Date]))"
   ]
  },
  {
   "attachments": {},
   "cell_type": "markdown",
   "metadata": {},
   "source": [
    "# ParallelPeriod\n",
    "\n",
    "> In this example, sales from current month is comapred with that of sales from 5 months back\n",
    "\n",
    "sales_parallel_period = CALCULATE([Sales_measure],PARALLELPERIOD('Date'[Date].[Date],-5,MONTH))"
   ]
  },
  {
   "attachments": {},
   "cell_type": "markdown",
   "metadata": {},
   "source": [
    "# DATESINPERIOD\n",
    "\n",
    "Returns a table that contains a column of dates that begins with a specified start date and continues for the specified number and type of date intervals.\n",
    "\n",
    "This function is suited to pass as a filter to the CALCULATE function. Use it to filter an expression by standard date intervals such as days, months, quarters, or years.\n",
    "\n",
    "__Application__: to calculate performance for a certain period counting back from a certain date.\n",
    "\n",
    "\n",
    "Example below is revenue for the past 1 year starting max date which can be introduced by external filter\n",
    "\n",
    "Revenue PY =\n",
    "CALCULATE(\n",
    "    SUM(Sales[Sales Amount]),\n",
    "    DATESINPERIOD(\n",
    "        'Date'[Date],\n",
    "        MAX('Date'[Date]),\n",
    "        -1,\n",
    "        YEAR\n",
    "    )\n",
    ")"
   ]
  },
  {
   "attachments": {},
   "cell_type": "markdown",
   "metadata": {},
   "source": [
    "# OPENINGBALANCEQUARTER\n",
    "\n",
    "> Shows balance for the last day of previous quarter. \n",
    "\n",
    "It can be done on Sales or SalesYTD\n",
    "\n",
    "opening_balance_Sales_Quarter = OPENINGBALANCEQUARTER([Sales_measure],'Date'[Date].[Date])\n",
    "\n",
    "opening_balance_YTD_Quarter = OPENINGBALANCEQUARTER([Sales_YTD],'Date'[Date].[Date])"
   ]
  },
  {
   "attachments": {},
   "cell_type": "markdown",
   "metadata": {},
   "source": [
    "# CLOSINGBALANCEQUARTER\n",
    "\n",
    "> It gives balance by the last date of the current quarter \n",
    "\n",
    "closing_balance_YTD_Quarter = CLOSINGBALANCEQUARTER([Sales_YTD],'Date'[Date].[Date])"
   ]
  },
  {
   "attachments": {},
   "cell_type": "markdown",
   "metadata": {},
   "source": [
    "![Alt text](opening%20and%20end%20of%20quarter%20balance.png)"
   ]
  }
 ],
 "metadata": {
  "language_info": {
   "name": "python"
  },
  "orig_nbformat": 4
 },
 "nbformat": 4,
 "nbformat_minor": 2
}
