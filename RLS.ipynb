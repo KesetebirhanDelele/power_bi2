{
 "cells": [
  {
   "cell_type": "markdown",
   "metadata": {},
   "source": [
    "# Row level security (RLS)\n",
    "\n",
    "https://learn.microsoft.com/en-us/power-bi/enterprise/service-admin-rls"
   ]
  },
  {
   "cell_type": "markdown",
   "metadata": {},
   "source": [
    "# Why 'Apply Security Filter in both Directions' is needed\n",
    "\n",
    "By default, row-level security filtering uses single-directional filters, regardless of whether the relationships are set to single direction or bi-directional. You can manually enable bi-directional cross-filter with row-level security by selecting the relationship and checking the Apply security filter in both directions checkbox. \n",
    "\n",
    "This option is only relevant if you have set row-level security in your model.\n",
    "For a RLS to be effective across multiple instances of Dim table and not explicitly on the one which we created ,we have to explicitly Apply security filter in both directions.\n",
    "\n",
    "For example, I have 2 DIM tables for Employee and Company, and 2 fact tables for EmployeeSalary and Sales.\n",
    "\n",
    "Company and sales are 1:m relationship, Employee and EmployeeSalary are 1:1 relationship, Company and Employee are 1:m relationship\n",
    "\n",
    "Assume that RLS is applied to the Employee table based on login.\n",
    "\n",
    "If a bidirection filter is not applied, slicing by company is used for sales and employee salaries.\n",
    "The result will be that the employee will be able to see not only his salary but also the sales of all companies\n",
    "If a bidirection filter exists, then the user will only see sales for the company he is tagged in."
   ]
  }
 ],
 "metadata": {
  "language_info": {
   "name": "python"
  }
 },
 "nbformat": 4,
 "nbformat_minor": 2
}
