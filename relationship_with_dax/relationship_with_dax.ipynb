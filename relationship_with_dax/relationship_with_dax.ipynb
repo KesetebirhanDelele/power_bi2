{
 "cells": [
  {
   "attachments": {},
   "cell_type": "markdown",
   "metadata": {},
   "source": [
    "# Relashinships using DAX"
   ]
  },
  {
   "attachments": {},
   "cell_type": "markdown",
   "metadata": {},
   "source": [
    "## CROSSFILTER\n",
    "When there are tables that are not properly related to one another to answer a business question, they can be joined using CROSSFILTER.\n",
    "![Alt text](crossfilter_model.png)"
   ]
  },
  {
   "attachments": {},
   "cell_type": "markdown",
   "metadata": {},
   "source": [
    "In the example above, sales table is related to both sales terittory and reseller tables but in one direction. For that reason, reseller and sales teritory tables can't filter one another. \n",
    "\n",
    "This can be fixed by adjustng the relationship between sales teritory and sales table manually two be bi-directional or it can be done using DAX as follows while calculating reseller count:\n",
    "\n",
    "Reseller Count = CALCULATE(COUNT(Reseller[Reseller ID]),CROSSFILTER(Reseller[ResellerKey],Sales[ResellerKey],Both))\n",
    "\n",
    "\n",
    "![Alt text](crossfilter_result.png)"
   ]
  },
  {
   "attachments": {},
   "cell_type": "markdown",
   "metadata": {},
   "source": [
    "There are two reseller count columns. The first is not counting it properly since reseller ID is counted and it is not showing correct result since it is not related to reseller terittory table. Reseller Count is properly calculated by the DAX code written above and hence it is showing the result correctly."
   ]
  },
  {
   "attachments": {},
   "cell_type": "markdown",
   "metadata": {},
   "source": [
    "## ISFILTERED and ISCROSSFILTERED\n",
    "\n",
    "General Guidance Irrespective of Direction of Relationship: single or both. See Figures for scenarios\n",
    "ISFILTERED returns TRUE when a value is being filtered directly by a value in a table or a slicer\n",
    "ISCROSSFILTERED returns TRUE when a value is being filtered by a value in a table or a slicer across a table"
   ]
  },
  {
   "attachments": {},
   "cell_type": "markdown",
   "metadata": {},
   "source": [
    "![Alt text](../filters/isfiltered%20&%20iscrossfiltered%20by%20sales.png)\n",
    "![Alt text](../filters/isfiltered%20&%20iscrossfiltered%20by%20reseller.png)"
   ]
  },
  {
   "attachments": {},
   "cell_type": "markdown",
   "metadata": {},
   "source": [
    "# Application of ISFILTERED and ISCROSSFILTERED\n",
    "They are used to modify outputs using conditional statements when there is a filtered value\n",
    "\n",
    "sales_datesinperiod = \n",
    "IF(ISFILTERED('Date'[Date]),CALCULATE(\n",
    "    SUM(Sales[Sales Amount]),\n",
    "    DATESINPERIOD(\n",
    "        'Date'[Date],\n",
    "        MAX('Date'[Date]),\n",
    "        -1,\n",
    "        YEAR\n",
    "    )\n",
    "),\"Select Date\")\n",
    "\n",
    "\n",
    "> This will show __'Select Date'__ if filter is not selected. If so, sales total for the past 1 year is shown"
   ]
  }
 ],
 "metadata": {
  "kernelspec": {
   "display_name": "base",
   "language": "python",
   "name": "python3"
  },
  "language_info": {
   "name": "python",
   "version": "3.9.12"
  },
  "orig_nbformat": 4,
  "vscode": {
   "interpreter": {
    "hash": "f2afcfe68c1da19a6605b86760761747f6d73cfe0b9d0821bcd792c1b2cd6393"
   }
  }
 },
 "nbformat": 4,
 "nbformat_minor": 2
}
