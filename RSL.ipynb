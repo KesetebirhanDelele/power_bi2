{
 "cells": [
  {
   "cell_type": "markdown",
   "metadata": {},
   "source": [
    "# Row level security (RSL)\n",
    "\n",
    "https://learn.microsoft.com/en-us/power-bi/enterprise/service-admin-rls"
   ]
  }
 ],
 "metadata": {
  "language_info": {
   "name": "python"
  }
 },
 "nbformat": 4,
 "nbformat_minor": 2
}
